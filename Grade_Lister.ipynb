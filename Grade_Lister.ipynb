{
 "cells": [
  {
   "cell_type": "code",
   "execution_count": 1,
   "id": "d0de3b49",
   "metadata": {},
   "outputs": [
    {
     "name": "stdout",
     "output_type": "stream",
     "text": [
      "Enter the Grade Data (Name1-Grade1, Name2-Grade2, ...): John Ray-85, Carla Davis-100, Ryan Williams-94, Jennifer Martin-89\n",
      "\n",
      "Average Grade:      92.00\n",
      "Carla Davis         100 (Passed)\n",
      "Ryan Williams       94  (Passed)\n",
      "Jennifer Martin     89  (Failed)\n",
      "John Ray            85  (Failed)\n"
     ]
    }
   ],
   "source": [
    "# A Simple Grade Lister Program #\n",
    "\n",
    "# Input Sample: \"John Ray-85, Carla Davis-100, Ryan Williams-94, Jennifer Martin-89\"\n",
    "inputString = input(\"Enter the Grade Data (Name1-Grade1, Name2-Grade2, ...): \")\n",
    "rawData = [x.strip() for x in inputString.split(',')]\n",
    "\n",
    "tempData = {}                  # New Empty Dictionary\n",
    "for item in rawData:\n",
    "    tempData[item.split('-')[0]] = item.split('-')[1]          # Assigning Keys-Values to the Dictionary\n",
    "\n",
    "gradeList = sorted(tempData.items(), key=lambda x: int(x[1]), reverse=True)          # Sorting by Grades\n",
    "\n",
    "average = 0.0\n",
    "for element in gradeList:\n",
    "    average += int(element[1])                 # 1) average = Sum of All the Grades\n",
    "\n",
    "average = average / len(gradeList)             # 2) average = Sum of All the Grades / Number of Students\n",
    "\n",
    "print(f\"\\nAverage Grade:\".ljust(21) + f\"{average:.2f}\")\n",
    "for name, grade in gradeList:                  # Printing All the Names with Their Grades\n",
    "    if int(grade) < average:\n",
    "        print(name.ljust(20) + f\"{grade}\".ljust(4) + \"(Failed)\")\n",
    "    else:\n",
    "        print(name.ljust(20) + f\"{grade}\".ljust(4) + \"(Passed)\")"
   ]
  },
  {
   "cell_type": "code",
   "execution_count": null,
   "id": "867fa14d",
   "metadata": {},
   "outputs": [],
   "source": []
  }
 ],
 "metadata": {
  "kernelspec": {
   "display_name": "Python 3 (ipykernel)",
   "language": "python",
   "name": "python3"
  },
  "language_info": {
   "codemirror_mode": {
    "name": "ipython",
    "version": 3
   },
   "file_extension": ".py",
   "mimetype": "text/x-python",
   "name": "python",
   "nbconvert_exporter": "python",
   "pygments_lexer": "ipython3",
   "version": "3.10.13"
  }
 },
 "nbformat": 4,
 "nbformat_minor": 5
}
